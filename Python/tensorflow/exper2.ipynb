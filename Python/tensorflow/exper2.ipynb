{
 "cells": [
  {
   "cell_type": "code",
   "execution_count": 4,
   "metadata": {
    "collapsed": true
   },
   "outputs": [],
   "source": [
    "import tflearn"
   ]
  },
  {
   "cell_type": "code",
   "execution_count": 3,
   "metadata": {},
   "outputs": [],
   "source": [
    "import numpy"
   ]
  },
  {
   "cell_type": "code",
   "execution_count": 10,
   "metadata": {},
   "outputs": [],
   "source": [
    "import matplotlib.pyplot as plt"
   ]
  },
  {
   "cell_type": "code",
   "execution_count": 35,
   "metadata": {},
   "outputs": [],
   "source": [
    "x = [numpy.arange(0,6.28,0.01)]"
   ]
  },
  {
   "cell_type": "code",
   "execution_count": 36,
   "metadata": {},
   "outputs": [],
   "source": [
    "y = [numpy.sin(x)]"
   ]
  },
  {
   "cell_type": "code",
   "execution_count": 14,
   "metadata": {},
   "outputs": [
    {
     "data": {
      "image/png": "[encoded data removed]",
      "text/plain": [
       "<matplotlib.figure.Figure at 0x7fc2406ae2d0>"
      ]
     },
     "metadata": {},
     "output_type": "display_data"
    }
   ],
   "source": [
    "plt.plot(x,y)\n",
    "plt.show()"
   ]
  },
  {
   "cell_type": "code",
   "execution_count": 28,
   "metadata": {},
   "outputs": [],
   "source": [
    "net = tflearn.input_data(shape=[None,1])\n",
    "net = tflearn.fully_connected(net,10,activation='tanh')\n",
    "net = tflearn.fully_connected(net,1,activation='linear')"
   ]
  },
  {
   "cell_type": "code",
   "execution_count": 29,
   "metadata": {},
   "outputs": [],
   "source": [
    "regression = tflearn.regression(net, optimizer='sgd', loss='mean_square',\n",
    "                                 metric='R2', learning_rate=0.01)"
   ]
  },
  {
   "cell_type": "code",
   "execution_count": 30,
   "metadata": {},
   "outputs": [],
   "source": [
    "m = tflearn.DNN(regression)"
   ]
  },
  {
   "cell_type": "code",
   "execution_count": null,
   "metadata": {},
   "outputs": [
    {
     "name": "stdout",
     "output_type": "stream",
     "text": [
      "---------------------------------\nRun id: AW00NM\nLog directory: /tmp/tflearn_logs/\nINFO:tensorflow:Summary name StandardError/SGD_0 (raw) is illegal; using StandardError/SGD_0__raw_ instead.\n"
     ]
    },
    {
     "name": "stdout",
     "output_type": "stream",
     "text": [
      "INFO:tensorflow:Summary name StandardError_1/SGD_1 (raw) is illegal; using StandardError_1/SGD_1__raw_ instead.\n"
     ]
    },
    {
     "name": "stdout",
     "output_type": "stream",
     "text": [
      "INFO:tensorflow:Summary name StandardError_2/SGD (raw) is illegal; using StandardError_2/SGD__raw_ instead.\n"
     ]
    },
    {
     "name": "stdout",
     "output_type": "stream",
     "text": [
      "---------------------------------\nTraining samples: 1884\nValidation samples: 0\n--\n"
     ]
    },
    {
     "name": "stderr",
     "output_type": "stream",
     "text": [
      "Exception in thread Thread-8:\nTraceback (most recent call last):\n  File \"/usr/lib/python2.7/threading.py\", line 810, in __bootstrap_inner\n    self.run()\n  File \"/usr/lib/python2.7/threading.py\", line 763, in run\n    self.__target(*self.__args, **self.__kwargs)\n  File \"/usr/local/lib/python2.7/dist-packages/tflearn/data_flow.py\", line 187, in fill_feed_dict_queue\n    data = self.retrieve_data(batch_ids)\n  File \"/usr/local/lib/python2.7/dist-packages/tflearn/data_flow.py\", line 222, in retrieve_data\n    utils.slice_array(self.feed_dict[key], batch_ids)\n  File \"/usr/local/lib/python2.7/dist-packages/tflearn/utils.py\", line 187, in slice_array\n    return X[start]\nIndexError: index 289 is out of bounds for axis 0 with size 1\nException in thread Thread-10:\nTraceback (most recent call last):\n  File \"/usr/lib/python2.7/threading.py\", line 810, in __bootstrap_inner\n    self.run()\n  File \"/usr/lib/python2.7/threading.py\", line 763, in run\n    self.__target(*self.__args, **self.__kwargs)\n  File \"/usr/local/lib/python2.7/dist-packages/tflearn/data_flow.py\", line 187, in fill_feed_dict_queue\n    data = self.retrieve_data(batch_ids)\n  File \"/usr/local/lib/python2.7/dist-packages/tflearn/data_flow.py\", line 222, in retrieve_data\n    utils.slice_array(self.feed_dict[key], batch_ids)\n  File \"/usr/local/lib/python2.7/dist-packages/tflearn/utils.py\", line 187, in slice_array\n    return X[start]\nIndexError: index 402 is out of bounds for axis 0 with size 1\n\n\nException in thread Thread-6:\nTraceback (most recent call last):\n  File \"/usr/lib/python2.7/threading.py\", line 810, in __bootstrap_inner\n    self.run()\n  File \"/usr/lib/python2.7/threading.py\", line 763, in run\n    self.__target(*self.__args, **self.__kwargs)\n  File \"/usr/local/lib/python2.7/dist-packages/tflearn/data_flow.py\", line 187, in fill_feed_dict_queue\n    data = self.retrieve_data(batch_ids)\n  File \"/usr/local/lib/python2.7/dist-packages/tflearn/data_flow.py\", line 222, in retrieve_data\n    utils.slice_array(self.feed_dict[key], batch_ids)\n  File \"/usr/local/lib/python2.7/dist-packages/tflearn/utils.py\", line 187, in slice_array\n    return X[start]\nIndexError: index 301 is out of bounds for axis 0 with size 1\n\n"
     ]
    }
   ],
   "source": [
    "m.fit(x, y, n_epoch=1000, show_metric=True, snapshot_epoch=False)"
   ]
  },
  {
   "cell_type": "code",
   "execution_count": null,
   "metadata": {},
   "outputs": [],
   "source": [
    "a=1"
   ]
  }
 ],
 "metadata": {
  "kernelspec": {
   "display_name": "Python 2",
   "language": "python",
   "name": "python2"
  },
  "language_info": {
   "codemirror_mode": {
    "name": "ipython",
    "version": 2.0
   },
   "file_extension": ".py",
   "mimetype": "text/x-python",
   "name": "python",
   "nbconvert_exporter": "python",
   "pygments_lexer": "ipython2",
   "version": "2.7.6"
  }
 },
 "nbformat": 4,
 "nbformat_minor": 0
}