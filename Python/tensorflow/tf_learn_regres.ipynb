{
 "cells": [
  {
   "cell_type": "code",
   "execution_count": 1,
   "metadata": {
    "collapsed": true
   },
   "outputs": [],
   "source": [
    "import tflearn\n",
    "import numpy\n",
    "import matplotlib.pyplot as plt\n",
    "import tensorflow as tf"
   ]
  },
  {
   "cell_type": "code",
   "execution_count": 2,
   "metadata": {},
   "outputs": [],
   "source": [
    "xmy = numpy.arange(0,6.28,0.01).reshape(628,1)\n",
    "ymy = numpy.array([numpy.sin(x0) for x0 in xmy])"
   ]
  },
  {
   "cell_type": "code",
   "execution_count": 4,
   "metadata": {},
   "outputs": [],
   "source": [
    "M=10000\n",
    "X= numpy.random.rand(M,5)\n",
    "Y= numpy.array([ [sum(x**2)/len(x),sum(x)/len(x)] for x in X ])"
   ]
  },
  {
   "cell_type": "code",
   "execution_count": 3,
   "metadata": {},
   "outputs": [],
   "source": [
    "net = tflearn.input_data([None, 1])\n",
    "net = tflearn.fully_connected(net, 64, activation='linear',\n",
    "                                 regularizer='L2', weight_decay=0.0005)\n",
    "net = tflearn.fully_connected(net, 1, activation='linear')\n",
    "net = tflearn.regression(net, optimizer=\n",
    "\ttflearn.optimizers.AdaGrad(learning_rate=0.01, initial_accumulator_value=0.01), \n",
    "\tloss='mean_square', learning_rate=0.05)\n",
    "m = tflearn.DNN(net, tensorboard_verbose=0, checkpoint_path='tmp/')"
   ]
  },
  {
   "cell_type": "code",
   "execution_count": 4,
   "metadata": {},
   "outputs": [
    {
     "name": "stdout",
     "output_type": "stream",
     "text": [
      "---------------------------------\nRun id: IVJGYP\nLog directory: /tmp/tflearn_logs/\nINFO:tensorflow:Summary name BinaryAccuracy/ (raw) is illegal; using BinaryAccuracy/__raw_ instead.\n"
     ]
    },
    {
     "name": "stdout",
     "output_type": "stream",
     "text": [
      "---------------------------------\nTraining samples: 628\nValidation samples: 0\n--\n"
     ]
    },
    {
     "name": "stdout",
     "output_type": "stream",
     "text": [
      "Training Step: 1  | time: 0.051s\n\u001b[2K\r| AdaGrad | epoch: 001 | loss: 0.00000 - binary_acc: 0.0000 -- iter: 064/628\n"
     ]
    },
    {
     "name": "stdout",
     "output_type": "stream",
     "text": [
      "Training Step: 2  | total loss: \u001b[1m\u001b[32m0.48740\u001b[0m\u001b[0m | time: 0.053s\n\u001b[2K\r| AdaGrad | epoch: 001 | loss: 0.48740 - binary_acc: 0.0000 -- iter: 128/628\n"
     ]
    },
    {
     "name": "stdout",
     "output_type": "stream",
     "text": [
      "Training Step: 3  | total loss: \u001b[1m\u001b[32m0.48740\u001b[0m\u001b[0m | time: 0.055s\n\u001b[2K\r| AdaGrad | epoch: 001 | loss: 0.48740 - binary_acc: 0.0000 -- iter: 192/628\n"
     ]
    },
    {
     "name": "stdout",
     "output_type": "stream",
     "text": [
      "Training Step: 4  | total loss: \u001b[1m\u001b[32m0.47710\u001b[0m\u001b[0m | time: 0.057s\n\u001b[2K\r| AdaGrad | epoch: 001 | loss: 0.47710 - binary_acc: 0.0000 -- iter: 256/628\n"
     ]
    },
    {
     "name": "stdout",
     "output_type": "stream",
     "text": [
      "Training Step: 5  | total loss: \u001b[1m\u001b[32m0.46390\u001b[0m\u001b[0m | time: 0.059s\n\u001b[2K\r| AdaGrad | epoch: 001 | loss: 0.46390 - binary_acc: 0.0000 -- iter: 320/628\n"
     ]
    },
    {
     "name": "stdout",
     "output_type": "stream",
     "text": [
      "Training Step: 6  | total loss: \u001b[1m\u001b[32m0.48308\u001b[0m\u001b[0m | time: 0.061s\n\u001b[2K\r| AdaGrad | epoch: 001 | loss: 0.48308 - binary_acc: 0.0000 -- iter: 384/628\n"
     ]
    },
    {
     "name": "stdout",
     "output_type": "stream",
     "text": [
      "Training Step: 7  | total loss: \u001b[1m\u001b[32m0.45509\u001b[0m\u001b[0m | time: 0.062s\n\u001b[2K\r| AdaGrad | epoch: 001 | loss: 0.45509 - binary_acc: 0.0000 -- iter: 448/628\n"
     ]
    },
    {
     "name": "stdout",
     "output_type": "stream",
     "text": [
      "Training Step: 8  | total loss: \u001b[1m\u001b[32m0.43791\u001b[0m\u001b[0m | time: 0.063s\n\u001b[2K\r| AdaGrad | epoch: 001 | loss: 0.43791 - binary_acc: 0.0000 -- iter: 512/628\n"
     ]
    },
    {
     "name": "stdout",
     "output_type": "stream",
     "text": [
      "Training Step: 9  | total loss: \u001b[1m\u001b[32m0.41312\u001b[0m\u001b[0m | time: 0.065s\n\u001b[2K\r| AdaGrad | epoch: 001 | loss: 0.41312 - binary_acc: 0.0000 -- iter: 576/628\n"
     ]
    },
    {
     "name": "stdout",
     "output_type": "stream",
     "text": [
      "Training Step: 10  | total loss: \u001b[1m\u001b[32m0.43216\u001b[0m\u001b[0m | time: 0.067s\n\u001b[2K\r| AdaGrad | epoch: 001 | loss: 0.43216 - binary_acc: 0.0000 -- iter: 628/628\n"
     ]
    },
    {
     "name": "stdout",
     "output_type": "stream",
     "text": [
      "Training Step: 11  | total loss: \u001b[1m\u001b[32m0.45558\u001b[0m\u001b[0m | time: 0.001s\n\u001b[2K\r| AdaGrad | epoch: 002 | loss: 0.45558 - binary_acc: 0.0000 -- iter: 064/628\n"
     ]
    },
    {
     "name": "stdout",
     "output_type": "stream",
     "text": [
      "Training Step: 12  | total loss: \u001b[1m\u001b[32m0.46420\u001b[0m\u001b[0m | time: 0.003s\n\u001b[2K\r| AdaGrad | epoch: 002 | loss: 0.46420 - binary_acc: 0.0000 -- iter: 128/628\n"
     ]
    },
    {
     "name": "stdout",
     "output_type": "stream",
     "text": [
      "Training Step: 13  | total loss: \u001b[1m\u001b[32m0.42683\u001b[0m\u001b[0m | time: 0.004s\n\u001b[2K\r| AdaGrad | epoch: 002 | loss: 0.42683 - binary_acc: 0.0000 -- iter: 192/628\n"
     ]
    },
    {
     "name": "stdout",
     "output_type": "stream",
     "text": [
      "Training Step: 14  | total loss: \u001b[1m\u001b[32m0.43728\u001b[0m\u001b[0m | time: 0.006s\n\u001b[2K\r| AdaGrad | epoch: 002 | loss: 0.43728 - binary_acc: 0.0000 -- iter: 256/628\n"
     ]
    },
    {
     "name": "stdout",
     "output_type": "stream",
     "text": [
      "Training Step: 15  | total loss: \u001b[1m\u001b[32m0.44085\u001b[0m\u001b[0m | time: 0.007s\n\u001b[2K\r| AdaGrad | epoch: 002 | loss: 0.44085 - binary_acc: 0.0000 -- iter: 320/628\n"
     ]
    },
    {
     "name": "stdout",
     "output_type": "stream",
     "text": [
      "Training Step: 16  | total loss: \u001b[1m\u001b[32m0.40846\u001b[0m\u001b[0m | time: 0.009s\n\u001b[2K\r| AdaGrad | epoch: 002 | loss: 0.40846 - binary_acc: 0.0000 -- iter: 384/628\n"
     ]
    },
    {
     "name": "stdout",
     "output_type": "stream",
     "text": [
      "Training Step: 17  | total loss: \u001b[1m\u001b[32m0.40846\u001b[0m\u001b[0m | time: 0.011s\n\u001b[2K\r| AdaGrad | epoch: 002 | loss: 0.40846 - binary_acc: 0.0000 -- iter: 448/628\n"
     ]
    },
    {
     "name": "stdout",
     "output_type": "stream",
     "text": [
      "Training Step: 18  | total loss: \u001b[1m\u001b[32m0.39992\u001b[0m\u001b[0m | time: 0.013s\n\u001b[2K\r| AdaGrad | epoch: 002 | loss: 0.39992 - binary_acc: 0.0000 -- iter: 512/628\n"
     ]
    },
    {
     "name": "stdout",
     "output_type": "stream",
     "text": [
      "Training Step: 19  | total loss: \u001b[1m\u001b[32m0.38631\u001b[0m\u001b[0m | time: 0.015s\n\u001b[2K\r| AdaGrad | epoch: 002 | loss: 0.38631 - binary_acc: 0.0000 -- iter: 576/628\n"
     ]
    },
    {
     "name": "stdout",
     "output_type": "stream",
     "text": [
      "Training Step: 20  | total loss: \u001b[1m\u001b[32m0.36811\u001b[0m\u001b[0m | time: 0.016s\n\u001b[2K\r| AdaGrad | epoch: 002 | loss: 0.36811 - binary_acc: 0.0000 -- iter: 628/628\n"
     ]
    },
    {
     "name": "stdout",
     "output_type": "stream",
     "text": [
      "Training Step: 21  | total loss: \u001b[1m\u001b[32m0.37535\u001b[0m\u001b[0m | time: 0.002s\n\u001b[2K\r| AdaGrad | epoch: 003 | loss: 0.37535 - binary_acc: 0.0000 -- iter: 064/628\n"
     ]
    },
    {
     "name": "stdout",
     "output_type": "stream",
     "text": [
      "Training Step: 22  | total loss: \u001b[1m\u001b[32m0.39311\u001b[0m\u001b[0m | time: 0.004s\n\u001b[2K\r| AdaGrad | epoch: 003 | loss: 0.39311 - binary_acc: 0.0000 -- iter: 128/628\n"
     ]
    },
    {
     "name": "stdout",
     "output_type": "stream",
     "text": [
      "Training Step: 23  | total loss: \u001b[1m\u001b[32m0.40426\u001b[0m\u001b[0m | time: 0.009s\n\u001b[2K\r| AdaGrad | epoch: 003 | loss: 0.40426 - binary_acc: 0.0000 -- iter: 192/628\n"
     ]
    },
    {
     "name": "stdout",
     "output_type": "stream",
     "text": [
      "Training Step: 24  | total loss: \u001b[1m\u001b[32m0.38488\u001b[0m\u001b[0m | time: 0.011s\n\u001b[2K\r| AdaGrad | epoch: 003 | loss: 0.38488 - binary_acc: 0.0000 -- iter: 256/628\n"
     ]
    },
    {
     "name": "stdout",
     "output_type": "stream",
     "text": [
      "Training Step: 25  | total loss: \u001b[1m\u001b[32m0.39370\u001b[0m\u001b[0m | time: 0.014s\n\u001b[2K\r| AdaGrad | epoch: 003 | loss: 0.39370 - binary_acc: 0.0000 -- iter: 320/628\n"
     ]
    },
    {
     "name": "stdout",
     "output_type": "stream",
     "text": [
      "Training Step: 26  | total loss: \u001b[1m\u001b[32m0.39572\u001b[0m\u001b[0m | time: 0.016s\n\u001b[2K\r| AdaGrad | epoch: 003 | loss: 0.39572 - binary_acc: 0.0000 -- iter: 384/628\n"
     ]
    },
    {
     "name": "stdout",
     "output_type": "stream",
     "text": [
      "Training Step: 27  | total loss: \u001b[1m\u001b[32m0.38052\u001b[0m\u001b[0m | time: 0.020s\n\u001b[2K\r| AdaGrad | epoch: 003 | loss: 0.38052 - binary_acc: 0.0000 -- iter: 448/628\n"
     ]
    },
    {
     "name": "stdout",
     "output_type": "stream",
     "text": [
      "Training Step: 28  | total loss: \u001b[1m\u001b[32m0.37568\u001b[0m\u001b[0m | time: 0.022s\n\u001b[2K\r| AdaGrad | epoch: 003 | loss: 0.37568 - binary_acc: 0.0000 -- iter: 512/628\n"
     ]
    },
    {
     "name": "stdout",
     "output_type": "stream",
     "text": [
      "Training Step: 29  | total loss: \u001b[1m\u001b[32m0.35917\u001b[0m\u001b[0m | time: 0.023s\n\u001b[2K\r| AdaGrad | epoch: 003 | loss: 0.35917 - binary_acc: 0.0000 -- iter: 576/628\n"
     ]
    },
    {
     "name": "stdout",
     "output_type": "stream",
     "text": [
      "Training Step: 30  | total loss: \u001b[1m\u001b[32m0.35917\u001b[0m\u001b[0m | time: 0.025s\n\u001b[2K\r| AdaGrad | epoch: 003 | loss: 0.35917 - binary_acc: 0.0000 -- iter: 628/628\n"
     ]
    },
    {
     "name": "stdout",
     "output_type": "stream",
     "text": [
      "Training Step: 31  | total loss: \u001b[1m\u001b[32m0.34593\u001b[0m\u001b[0m | time: 0.001s\n\u001b[2K\r| AdaGrad | epoch: 004 | loss: 0.34593 - binary_acc: 0.0000 -- iter: 064/628\n"
     ]
    },
    {
     "name": "stdout",
     "output_type": "stream",
     "text": [
      "Training Step: 32  | total loss: \u001b[1m\u001b[32m0.34847\u001b[0m\u001b[0m | time: 0.003s\n\u001b[2K\r| AdaGrad | epoch: 004 | loss: 0.34847 - binary_acc: 0.0000 -- iter: 128/628\n"
     ]
    },
    {
     "name": "stdout",
     "output_type": "stream",
     "text": [
      "Training Step: 33  | total loss: \u001b[1m\u001b[32m0.36037\u001b[0m\u001b[0m | time: 0.005s\n\u001b[2K\r| AdaGrad | epoch: 004 | loss: 0.36037 - binary_acc: 0.0000 -- iter: 192/628\n"
     ]
    },
    {
     "name": "stdout",
     "output_type": "stream",
     "text": [
      "Training Step: 34  | total loss: \u001b[1m\u001b[32m0.36877\u001b[0m\u001b[0m | time: 0.008s\n\u001b[2K\r| AdaGrad | epoch: 004 | loss: 0.36877 - binary_acc: 0.0000 -- iter: 256/628\n"
     ]
    },
    {
     "name": "stdout",
     "output_type": "stream",
     "text": [
      "Training Step: 35  | total loss: \u001b[1m\u001b[32m0.35551\u001b[0m\u001b[0m | time: 0.010s\n\u001b[2K\r| AdaGrad | epoch: 004 | loss: 0.35551 - binary_acc: 0.0000 -- iter: 320/628\n"
     ]
    },
    {
     "name": "stdout",
     "output_type": "stream",
     "text": [
      "Training Step: 36  | total loss: \u001b[1m\u001b[32m0.36488\u001b[0m\u001b[0m | time: 0.012s\n\u001b[2K\r| AdaGrad | epoch: 004 | loss: 0.36488 - binary_acc: 0.0000 -- iter: 384/628\n"
     ]
    },
    {
     "name": "stdout",
     "output_type": "stream",
     "text": [
      "Training Step: 37  | total loss: \u001b[1m\u001b[32m0.35038\u001b[0m\u001b[0m | time: 0.014s\n\u001b[2K\r| AdaGrad | epoch: 004 | loss: 0.35038 - binary_acc: 0.0000 -- iter: 448/628\n"
     ]
    },
    {
     "name": "stdout",
     "output_type": "stream",
     "text": [
      "Training Step: 38  | total loss: \u001b[1m\u001b[32m0.34446\u001b[0m\u001b[0m | time: 0.015s\n\u001b[2K\r| AdaGrad | epoch: 004 | loss: 0.34446 - binary_acc: 0.0000 -- iter: 512/628\n"
     ]
    },
    {
     "name": "stdout",
     "output_type": "stream",
     "text": [
      "Training Step: 39  | total loss: \u001b[1m\u001b[32m0.32528\u001b[0m\u001b[0m | time: 0.018s\n\u001b[2K\r| AdaGrad | epoch: 004 | loss: 0.32528 - binary_acc: 0.0000 -- iter: 576/628\n"
     ]
    },
    {
     "name": "stdout",
     "output_type": "stream",
     "text": [
      "Training Step: 40  | total loss: \u001b[1m\u001b[32m0.33032\u001b[0m\u001b[0m | time: 0.022s\n\u001b[2K\r| AdaGrad | epoch: 004 | loss: 0.33032 - binary_acc: 0.0000 -- iter: 628/628\n"
     ]
    },
    {
     "name": "stdout",
     "output_type": "stream",
     "text": [
      "Training Step: 41  | total loss: \u001b[1m\u001b[32m0.33319\u001b[0m\u001b[0m | time: 0.002s\n\u001b[2K\r| AdaGrad | epoch: 005 | loss: 0.33319 - binary_acc: 0.0000 -- iter: 064/628\n"
     ]
    },
    {
     "name": "stdout",
     "output_type": "stream",
     "text": [
      "Training Step: 42  | total loss: \u001b[1m\u001b[32m0.32521\u001b[0m\u001b[0m | time: 0.003s\n\u001b[2K\r| AdaGrad | epoch: 005 | loss: 0.32521 - binary_acc: 0.0000 -- iter: 128/628\n"
     ]
    },
    {
     "name": "stdout",
     "output_type": "stream",
     "text": [
      "Training Step: 43  | total loss: \u001b[1m\u001b[32m0.33052\u001b[0m\u001b[0m | time: 0.005s\n\u001b[2K\r| AdaGrad | epoch: 005 | loss: 0.33052 - binary_acc: 0.0000 -- iter: 192/628\n"
     ]
    },
    {
     "name": "stdout",
     "output_type": "stream",
     "text": [
      "Training Step: 44  | total loss: \u001b[1m\u001b[32m0.33735\u001b[0m\u001b[0m | time: 0.007s\n\u001b[2K\r| AdaGrad | epoch: 005 | loss: 0.33735 - binary_acc: 0.0000 -- iter: 256/628\n"
     ]
    },
    {
     "name": "stdout",
     "output_type": "stream",
     "text": [
      "Training Step: 45  | total loss: \u001b[1m\u001b[32m0.36286\u001b[0m\u001b[0m | time: 0.008s\n\u001b[2K\r| AdaGrad | epoch: 005 | loss: 0.36286 - binary_acc: 0.0000 -- iter: 320/628\n"
     ]
    },
    {
     "name": "stdout",
     "output_type": "stream",
     "text": [
      "Training Step: 46  | total loss: \u001b[1m\u001b[32m0.34089\u001b[0m\u001b[0m | time: 0.010s\n\u001b[2K\r| AdaGrad | epoch: 005 | loss: 0.34089 - binary_acc: 0.0000 -- iter: 384/628\n"
     ]
    },
    {
     "name": "stdout",
     "output_type": "stream",
     "text": [
      "Training Step: 47  | total loss: \u001b[1m\u001b[32m0.34802\u001b[0m\u001b[0m | time: 0.012s\n\u001b[2K\r| AdaGrad | epoch: 005 | loss: 0.34802 - binary_acc: 0.0000 -- iter: 448/628\n"
     ]
    },
    {
     "name": "stdout",
     "output_type": "stream",
     "text": [
      "Training Step: 48  | total loss: \u001b[1m\u001b[32m0.34003\u001b[0m\u001b[0m | time: 0.014s\n\u001b[2K\r| AdaGrad | epoch: 005 | loss: 0.34003 - binary_acc: 0.0000 -- iter: 512/628\n"
     ]
    },
    {
     "name": "stdout",
     "output_type": "stream",
     "text": [
      "Training Step: 49  | total loss: \u001b[1m\u001b[32m0.33391\u001b[0m\u001b[0m | time: 0.016s\n\u001b[2K\r| AdaGrad | epoch: 005 | loss: 0.33391 - binary_acc: 0.0000 -- iter: 576/628\n"
     ]
    },
    {
     "name": "stdout",
     "output_type": "stream",
     "text": [
      "Training Step: 50  | total loss: \u001b[1m\u001b[32m0.32339\u001b[0m\u001b[0m | time: 0.017s\n\u001b[2K\r| AdaGrad | epoch: 005 | loss: 0.32339 - binary_acc: 0.0000 -- iter: 628/628\n"
     ]
    },
    {
     "name": "stdout",
     "output_type": "stream",
     "text": [
      "Training Step: 51  | total loss: \u001b[1m\u001b[32m0.31333\u001b[0m\u001b[0m | time: 0.002s\n\u001b[2K\r| AdaGrad | epoch: 006 | loss: 0.31333 - binary_acc: 0.0000 -- iter: 064/628\n"
     ]
    },
    {
     "name": "stdout",
     "output_type": "stream",
     "text": [
      "Training Step: 52  | total loss: \u001b[1m\u001b[32m0.31928\u001b[0m\u001b[0m | time: 0.003s\n\u001b[2K\r| AdaGrad | epoch: 006 | loss: 0.31928 - binary_acc: 0.0000 -- iter: 128/628\n"
     ]
    },
    {
     "name": "stdout",
     "output_type": "stream",
     "text": [
      "Training Step: 53  | total loss: \u001b[1m\u001b[32m0.32343\u001b[0m\u001b[0m | time: 0.005s\n\u001b[2K\r| AdaGrad | epoch: 006 | loss: 0.32343 - binary_acc: 0.0000 -- iter: 192/628\n"
     ]
    },
    {
     "name": "stdout",
     "output_type": "stream",
     "text": [
      "Training Step: 54  | total loss: \u001b[1m\u001b[32m0.31703\u001b[0m\u001b[0m | time: 0.007s\n\u001b[2K\r| AdaGrad | epoch: 006 | loss: 0.31703 - binary_acc: 0.0000 -- iter: 256/628\n"
     ]
    },
    {
     "name": "stdout",
     "output_type": "stream",
     "text": [
      "Training Step: 55  | total loss: \u001b[1m\u001b[32m0.31082\u001b[0m\u001b[0m | time: 0.009s\n\u001b[2K\r| AdaGrad | epoch: 006 | loss: 0.31082 - binary_acc: 0.0000 -- iter: 320/628\n"
     ]
    },
    {
     "name": "stdout",
     "output_type": "stream",
     "text": [
      "Training Step: 56  | total loss: \u001b[1m\u001b[32m0.34620\u001b[0m\u001b[0m | time: 0.011s\n\u001b[2K\r| AdaGrad | epoch: 006 | loss: 0.34620 - binary_acc: 0.0000 -- iter: 384/628\n"
     ]
    },
    {
     "name": "stdout",
     "output_type": "stream",
     "text": [
      "Training Step: 57  | total loss: \u001b[1m\u001b[32m0.34620\u001b[0m\u001b[0m | time: 0.012s\n\u001b[2K\r| AdaGrad | epoch: 006 | loss: 0.34620 - binary_acc: 0.0000 -- iter: 448/628\n"
     ]
    },
    {
     "name": "stdout",
     "output_type": "stream",
     "text": [
      "Training Step: 58  | total loss: \u001b[1m\u001b[32m0.33984\u001b[0m\u001b[0m | time: 0.014s\n\u001b[2K\r| AdaGrad | epoch: 006 | loss: 0.33984 - binary_acc: 0.0000 -- iter: 512/628\n"
     ]
    },
    {
     "name": "stdout",
     "output_type": "stream",
     "text": [
      "Training Step: 59  | total loss: \u001b[1m\u001b[32m0.33012\u001b[0m\u001b[0m | time: 0.016s\n\u001b[2K\r| AdaGrad | epoch: 006 | loss: 0.33012 - binary_acc: 0.0000 -- iter: 576/628\n"
     ]
    },
    {
     "name": "stdout",
     "output_type": "stream",
     "text": [
      "Training Step: 60  | total loss: \u001b[1m\u001b[32m0.32044\u001b[0m\u001b[0m | time: 0.018s\n\u001b[2K\r| AdaGrad | epoch: 006 | loss: 0.32044 - binary_acc: 0.0000 -- iter: 628/628\n"
     ]
    },
    {
     "name": "stdout",
     "output_type": "stream",
     "text": [
      "Training Step: 61  | total loss: \u001b[1m\u001b[32m0.30799\u001b[0m\u001b[0m | time: 0.002s\n\u001b[2K\r| AdaGrad | epoch: 007 | loss: 0.30799 - binary_acc: 0.0000 -- iter: 064/628\n"
     ]
    },
    {
     "name": "stdout",
     "output_type": "stream",
     "text": [
      "Training Step: 62  | total loss: \u001b[1m\u001b[32m0.30799\u001b[0m\u001b[0m | time: 0.004s\n\u001b[2K\r| AdaGrad | epoch: 007 | loss: 0.30799 - binary_acc: 0.0000 -- iter: 128/628\n"
     ]
    },
    {
     "name": "stdout",
     "output_type": "stream",
     "text": [
      "Training Step: 63  | total loss: \u001b[1m\u001b[32m0.30269\u001b[0m\u001b[0m | time: 0.005s\n\u001b[2K\r| AdaGrad | epoch: 007 | loss: 0.30269 - binary_acc: 0.0000 -- iter: 192/628\n"
     ]
    },
    {
     "name": "stdout",
     "output_type": "stream",
     "text": [
      "Training Step: 64  | total loss: \u001b[1m\u001b[32m0.30151\u001b[0m\u001b[0m | time: 0.011s\n\u001b[2K\r| AdaGrad | epoch: 007 | loss: 0.30151 - binary_acc: 0.0000 -- iter: 256/628\n"
     ]
    },
    {
     "name": "stdout",
     "output_type": "stream",
     "text": [
      "Training Step: 65  | total loss: \u001b[1m\u001b[32m0.29963\u001b[0m\u001b[0m | time: 0.013s\n\u001b[2K\r| AdaGrad | epoch: 007 | loss: 0.29963 - binary_acc: 0.0000 -- iter: 320/628\n"
     ]
    },
    {
     "name": "stdout",
     "output_type": "stream",
     "text": [
      "Training Step: 66  | total loss: \u001b[1m\u001b[32m0.28591\u001b[0m\u001b[0m | time: 0.015s\n\u001b[2K\r| AdaGrad | epoch: 007 | loss: 0.28591 - binary_acc: 0.0000 -- iter: 384/628\n"
     ]
    },
    {
     "name": "stdout",
     "output_type": "stream",
     "text": [
      "Training Step: 67  | total loss: \u001b[1m\u001b[32m0.27340\u001b[0m\u001b[0m | time: 0.016s\n\u001b[2K\r| AdaGrad | epoch: 007 | loss: 0.27340 - binary_acc: 0.0000 -- iter: 448/628\n"
     ]
    },
    {
     "name": "stdout",
     "output_type": "stream",
     "text": [
      "Training Step: 68  | total loss: \u001b[1m\u001b[32m0.27833\u001b[0m\u001b[0m | time: 0.018s\n\u001b[2K\r| AdaGrad | epoch: 007 | loss: 0.27833 - binary_acc: 0.0000 -- iter: 512/628\n"
     ]
    },
    {
     "name": "stdout",
     "output_type": "stream",
     "text": [
      "Training Step: 69  | total loss: \u001b[1m\u001b[32m0.27910\u001b[0m\u001b[0m | time: 0.020s\n\u001b[2K\r| AdaGrad | epoch: 007 | loss: 0.27910 - binary_acc: 0.0000 -- iter: 576/628\n"
     ]
    },
    {
     "name": "stdout",
     "output_type": "stream",
     "text": [
      "Training Step: 70  | total loss: \u001b[1m\u001b[32m0.27668\u001b[0m\u001b[0m | time: 0.022s\n\u001b[2K\r| AdaGrad | epoch: 007 | loss: 0.27668 - binary_acc: 0.0000 -- iter: 628/628\n"
     ]
    },
    {
     "name": "stdout",
     "output_type": "stream",
     "text": [
      "Training Step: 71  | total loss: \u001b[1m\u001b[32m0.27587\u001b[0m\u001b[0m | time: 0.002s\n\u001b[2K\r| AdaGrad | epoch: 008 | loss: 0.27587 - binary_acc: 0.0000 -- iter: 064/628\n"
     ]
    },
    {
     "name": "stdout",
     "output_type": "stream",
     "text": [
      "Training Step: 72  | total loss: \u001b[1m\u001b[32m0.27008\u001b[0m\u001b[0m | time: 0.004s\n\u001b[2K\r| AdaGrad | epoch: 008 | loss: 0.27008 - binary_acc: 0.0000 -- iter: 128/628\n"
     ]
    },
    {
     "name": "stdout",
     "output_type": "stream",
     "text": [
      "Training Step: 73  | total loss: \u001b[1m\u001b[32m0.26895\u001b[0m\u001b[0m | time: 0.006s\n\u001b[2K\r| AdaGrad | epoch: 008 | loss: 0.26895 - binary_acc: 0.0000 -- iter: 192/628\n"
     ]
    },
    {
     "name": "stdout",
     "output_type": "stream",
     "text": [
      "Training Step: 74  | total loss: \u001b[1m\u001b[32m0.25967\u001b[0m\u001b[0m | time: 0.007s\n\u001b[2K\r| AdaGrad | epoch: 008 | loss: 0.25967 - binary_acc: 0.0000 -- iter: 256/628\n"
     ]
    },
    {
     "name": "stdout",
     "output_type": "stream",
     "text": [
      "Training Step: 75  | total loss: \u001b[1m\u001b[32m0.25457\u001b[0m\u001b[0m | time: 0.009s\n\u001b[2K\r| AdaGrad | epoch: 008 | loss: 0.25457 - binary_acc: 0.0000 -- iter: 320/628\n"
     ]
    },
    {
     "name": "stdout",
     "output_type": "stream",
     "text": [
      "Training Step: 76  | total loss: \u001b[1m\u001b[32m0.25394\u001b[0m\u001b[0m | time: 0.011s\n\u001b[2K\r| AdaGrad | epoch: 008 | loss: 0.25394 - binary_acc: 0.0000 -- iter: 384/628\n"
     ]
    },
    {
     "name": "stdout",
     "output_type": "stream",
     "text": [
      "Training Step: 77  | total loss: \u001b[1m\u001b[32m0.25641\u001b[0m\u001b[0m | time: 0.013s\n\u001b[2K\r| AdaGrad | epoch: 008 | loss: 0.25641 - binary_acc: 0.0000 -- iter: 448/628\n"
     ]
    },
    {
     "name": "stdout",
     "output_type": "stream",
     "text": [
      "Training Step: 78  | total loss: \u001b[1m\u001b[32m0.25819\u001b[0m\u001b[0m | time: 0.015s\n\u001b[2K\r| AdaGrad | epoch: 008 | loss: 0.25819 - binary_acc: 0.0000 -- iter: 512/628\n"
     ]
    },
    {
     "name": "stdout",
     "output_type": "stream",
     "text": [
      "Training Step: 79  | total loss: \u001b[1m\u001b[32m0.25380\u001b[0m\u001b[0m | time: 0.016s\n\u001b[2K\r| AdaGrad | epoch: 008 | loss: 0.25380 - binary_acc: 0.0000 -- iter: 576/628\n"
     ]
    },
    {
     "name": "stdout",
     "output_type": "stream",
     "text": [
      "Training Step: 80  | total loss: \u001b[1m\u001b[32m0.25210\u001b[0m\u001b[0m | time: 0.019s\n\u001b[2K\r| AdaGrad | epoch: 008 | loss: 0.25210 - binary_acc: 0.0000 -- iter: 628/628\n"
     ]
    },
    {
     "name": "stdout",
     "output_type": "stream",
     "text": [
      "Training Step: 81  | total loss: \u001b[1m\u001b[32m0.24740\u001b[0m\u001b[0m | time: 0.002s\n\u001b[2K\r| AdaGrad | epoch: 009 | loss: 0.24740 - binary_acc: 0.0000 -- iter: 064/628\n"
     ]
    },
    {
     "name": "stdout",
     "output_type": "stream",
     "text": [
      "Training Step: 82  | total loss: \u001b[1m\u001b[32m0.24699\u001b[0m\u001b[0m | time: 0.003s\n\u001b[2K\r| AdaGrad | epoch: 009 | loss: 0.24699 - binary_acc: 0.0000 -- iter: 128/628\n"
     ]
    },
    {
     "name": "stdout",
     "output_type": "stream",
     "text": [
      "Training Step: 83  | total loss: \u001b[1m\u001b[32m0.24479\u001b[0m\u001b[0m | time: 0.005s\n\u001b[2K\r| AdaGrad | epoch: 009 | loss: 0.24479 - binary_acc: 0.0000 -- iter: 192/628\n"
     ]
    },
    {
     "name": "stdout",
     "output_type": "stream",
     "text": [
      "Training Step: 84  | total loss: \u001b[1m\u001b[32m0.24495\u001b[0m\u001b[0m | time: 0.007s\n\u001b[2K\r| AdaGrad | epoch: 009 | loss: 0.24495 - binary_acc: 0.0000 -- iter: 256/628\n"
     ]
    },
    {
     "name": "stdout",
     "output_type": "stream",
     "text": [
      "Training Step: 85  | total loss: \u001b[1m\u001b[32m0.24334\u001b[0m\u001b[0m | time: 0.009s\n\u001b[2K\r| AdaGrad | epoch: 009 | loss: 0.24334 - binary_acc: 0.0000 -- iter: 320/628\n"
     ]
    },
    {
     "name": "stdout",
     "output_type": "stream",
     "text": [
      "Training Step: 86  | total loss: \u001b[1m\u001b[32m0.24068\u001b[0m\u001b[0m | time: 0.011s\n\u001b[2K\r| AdaGrad | epoch: 009 | loss: 0.24068 - binary_acc: 0.0000 -- iter: 384/628\n"
     ]
    },
    {
     "name": "stdout",
     "output_type": "stream",
     "text": [
      "Training Step: 87  | total loss: \u001b[1m\u001b[32m0.24199\u001b[0m\u001b[0m | time: 0.013s\n\u001b[2K\r| AdaGrad | epoch: 009 | loss: 0.24199 - binary_acc: 0.0000 -- iter: 448/628\n"
     ]
    },
    {
     "name": "stdout",
     "output_type": "stream",
     "text": [
      "Training Step: 88  | total loss: \u001b[1m\u001b[32m0.24235\u001b[0m\u001b[0m | time: 0.015s\n\u001b[2K\r| AdaGrad | epoch: 009 | loss: 0.24235 - binary_acc: 0.0000 -- iter: 512/628\n"
     ]
    },
    {
     "name": "stdout",
     "output_type": "stream",
     "text": [
      "Training Step: 89  | total loss: \u001b[1m\u001b[32m0.26666\u001b[0m\u001b[0m | time: 0.017s\n\u001b[2K\r| AdaGrad | epoch: 009 | loss: 0.26666 - binary_acc: 0.0000 -- iter: 576/628\n"
     ]
    },
    {
     "name": "stdout",
     "output_type": "stream",
     "text": [
      "Training Step: 90  | total loss: \u001b[1m\u001b[32m0.26199\u001b[0m\u001b[0m | time: 0.019s\n\u001b[2K\r| AdaGrad | epoch: 009 | loss: 0.26199 - binary_acc: 0.0000 -- iter: 628/628\n"
     ]
    },
    {
     "name": "stdout",
     "output_type": "stream",
     "text": [
      "Training Step: 91  | total loss: \u001b[1m\u001b[32m0.25506\u001b[0m\u001b[0m | time: 0.002s\n\u001b[2K\r| AdaGrad | epoch: 010 | loss: 0.25506 - binary_acc: 0.0000 -- iter: 064/628\n"
     ]
    },
    {
     "name": "stdout",
     "output_type": "stream",
     "text": [
      "Training Step: 92  | total loss: \u001b[1m\u001b[32m0.25802\u001b[0m\u001b[0m | time: 0.005s\n\u001b[2K\r| AdaGrad | epoch: 010 | loss: 0.25802 - binary_acc: 0.0000 -- iter: 128/628\n"
     ]
    },
    {
     "name": "stdout",
     "output_type": "stream",
     "text": [
      "Training Step: 93  | total loss: \u001b[1m\u001b[32m0.25236\u001b[0m\u001b[0m | time: 0.012s\n\u001b[2K\r| AdaGrad | epoch: 010 | loss: 0.25236 - binary_acc: 0.0000 -- iter: 192/628\n"
     ]
    },
    {
     "name": "stdout",
     "output_type": "stream",
     "text": [
      "Training Step: 94  | total loss: \u001b[1m\u001b[32m0.24827\u001b[0m\u001b[0m | time: 0.014s\n\u001b[2K\r| AdaGrad | epoch: 010 | loss: 0.24827 - binary_acc: 0.0000 -- iter: 256/628\n"
     ]
    },
    {
     "name": "stdout",
     "output_type": "stream",
     "text": [
      "Training Step: 95  | total loss: \u001b[1m\u001b[32m0.24717\u001b[0m\u001b[0m | time: 0.016s\n\u001b[2K\r| AdaGrad | epoch: 010 | loss: 0.24717 - binary_acc: 0.0000 -- iter: 320/628\n"
     ]
    },
    {
     "name": "stdout",
     "output_type": "stream",
     "text": [
      "Training Step: 96  | total loss: \u001b[1m\u001b[32m0.24392\u001b[0m\u001b[0m | time: 0.018s\n\u001b[2K\r| AdaGrad | epoch: 010 | loss: 0.24392 - binary_acc: 0.0000 -- iter: 384/628\n"
     ]
    },
    {
     "name": "stdout",
     "output_type": "stream",
     "text": [
      "Training Step: 97  | total loss: \u001b[1m\u001b[32m0.24158\u001b[0m\u001b[0m | time: 0.020s\n\u001b[2K\r| AdaGrad | epoch: 010 | loss: 0.24158 - binary_acc: 0.0000 -- iter: 448/628\n"
     ]
    },
    {
     "name": "stdout",
     "output_type": "stream",
     "text": [
      "Training Step: 98  | total loss: \u001b[1m\u001b[32m0.24002\u001b[0m\u001b[0m | time: 0.022s\n\u001b[2K\r| AdaGrad | epoch: 010 | loss: 0.24002 - binary_acc: 0.0000 -- iter: 512/628\n"
     ]
    },
    {
     "name": "stdout",
     "output_type": "stream",
     "text": [
      "Training Step: 99  | total loss: \u001b[1m\u001b[32m0.23515\u001b[0m\u001b[0m | time: 0.024s\n\u001b[2K\r| AdaGrad | epoch: 010 | loss: 0.23515 - binary_acc: 0.0000 -- iter: 576/628\n"
     ]
    },
    {
     "name": "stdout",
     "output_type": "stream",
     "text": [
      "Training Step: 100  | total loss: \u001b[1m\u001b[32m0.29949\u001b[0m\u001b[0m | time: 0.026s\n\u001b[2K\r| AdaGrad | epoch: 010 | loss: 0.29949 - binary_acc: 0.0000 -- iter: 628/628\n"
     ]
    }
   ],
   "source": [
    "m.fit(xmy, ymy, n_epoch=10, show_metric=True, snapshot_epoch=False)"
   ]
  },
  {
   "cell_type": "code",
   "execution_count": 16,
   "metadata": {},
   "outputs": [
    {
     "name": "stdout",
     "output_type": "stream",
     "text": [
      "[[ 0.43510971  0.53954317]\n [ 0.26233236  0.36689626]\n [ 0.08037282  0.2236379 ]\n ..., \n [ 0.48544826  0.64157633]\n [ 0.44341881  0.60037284]\n [ 0.10097273  0.22566448]]\n"
     ]
    }
   ],
   "source": [
    "print Y"
   ]
  },
  {
   "cell_type": "code",
   "execution_count": 73,
   "metadata": {},
   "outputs": [
    {
     "data": {
      "text/plain": [
       "array([[ 0.77832448]], dtype=float32)"
      ]
     },
     "execution_count": 73,
     "metadata": {},
     "output_type": "execute_result"
    }
   ],
   "source": [
    "m.predict([[1]])"
   ]
  }
 ],
 "metadata": {
  "kernelspec": {
   "display_name": "Python 2",
   "language": "python",
   "name": "python2"
  },
  "language_info": {
   "codemirror_mode": {
    "name": "ipython",
    "version": 2.0
   },
   "file_extension": ".py",
   "mimetype": "text/x-python",
   "name": "python",
   "nbconvert_exporter": "python",
   "pygments_lexer": "ipython2",
   "version": "2.7.6"
  }
 },
 "nbformat": 4,
 "nbformat_minor": 0
}